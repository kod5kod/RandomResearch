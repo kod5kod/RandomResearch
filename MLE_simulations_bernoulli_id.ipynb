{
 "cells": [
  {
   "cell_type": "markdown",
   "metadata": {},
   "source": [
    "# MLE of Non-Identical Bernoulli Simulations"
   ]
  },
  {
   "cell_type": "markdown",
   "metadata": {},
   "source": [
    "author: lee.carlin@mail.huji.ac.il  \n",
    "date: 2020-03-17"
   ]
  },
  {
   "cell_type": "markdown",
   "metadata": {},
   "source": [
    "### We have the following model:"
   ]
  },
  {
   "cell_type": "markdown",
   "metadata": {},
   "source": [
    "$t_{i,j} \\sim Bern(\\theta_{i,j}) \\quad \\text{where} \\quad \\theta_{i,j} = \\pi_{i,j}^1 m_i +\\pi_{i,j}^0  (1- m_i)$  \n"
   ]
  },
  {
   "cell_type": "markdown",
   "metadata": {},
   "source": [
    "We first simply by using   $\\quad \\theta_{i,j} = \\pi_{i,j}^1 m_i $"
   ]
  },
  {
   "cell_type": "markdown",
   "metadata": {},
   "source": [
    "### The FOC of the MLE is:"
   ]
  },
  {
   "cell_type": "markdown",
   "metadata": {},
   "source": [
    "$\\frac{ \\partial \\mathbf{l}(\\theta_{i,j})}{ \\partial \\theta_{i,j}\t}  \n",
    " =\\sum_{t_{i,j}}^{k_i} t_{i,j} \\frac{\\partial \\partial (\\theta_{i,j})}{\\theta_{i,j}}\n",
    " - \\sum_{t_{i,j}}^{k_i} (1-t_{i,j}) \\frac{\\partial \\partial (\\theta_{i,j})}{1-\\theta_{i,j}} $ \n",
    "  \n",
    "  where $ \\partial \\partial (\\theta_{i,j})$ is the partial derivative of $\\theta_{i,j}$ with respect to one of its variables. \n",
    " "
   ]
  },
  {
   "cell_type": "markdown",
   "metadata": {},
   "source": [
    "If we choose to take the partial derivative with respect to $m_i$, then"
   ]
  },
  {
   "cell_type": "markdown",
   "metadata": {},
   "source": [
    "$\\frac{ \\partial \\mathbf{l}(\\theta_{i,j})}{ \\partial \\theta_{i,j}\t}  \n",
    "=  \\sum_{t_{i,j}}^{k_i} t_{i,j} \\frac{\\pi_{i,j}}{\\theta_{i,j}}\n",
    "- \\sum_{t_{i,j}}^{k_i} (1-t_{i,j}) \\frac{\\pi_{i,j}}{1-\\theta_{i,j}}$"
   ]
  },
  {
   "cell_type": "markdown",
   "metadata": {},
   "source": [
    "Setting Parameters:"
   ]
  },
  {
   "cell_type": "code",
   "execution_count": null,
   "metadata": {},
   "outputs": [],
   "source": [
    "n_i =  30 # number of coverage per read\n",
    "pi_high = 0.4 # pi at beginning of read\n",
    "pi_low = 0.2 # pi at rest of read\n",
    "pi_high_ratio = 0.3 # ratio of beginning of read as part of the whole read"
   ]
  },
  {
   "cell_type": "markdown",
   "metadata": {},
   "source": [
    "Finding the root of the FOC MLE:"
   ]
  },
  {
   "cell_type": "code",
   "execution_count": null,
   "metadata": {},
   "outputs": [],
   "source": [
    "import numpy as np\n",
    "import scipy as sp\n",
    "import matplotlib.pyplot as plt\n",
    "from scipy.optimize import fsolve, newton\n",
    "\n",
    "# Define the expression whose roots we want to find\n",
    "\n",
    "n_i =  100 # number of coverage per read\n",
    "m_i =  min(np.random.uniform(0.7, 0.15),1)\n",
    "pi_i = np.random.binomial(1,pi_high_ratio,n_i).astype(float)\n",
    "pi_i[pi_i==1] = pi_high\n",
    "pi_i[pi_i==0] = pi_low\n",
    "t_i = [np.random.binomial(1,pi_i*m_i)] \n",
    "print('Number of coverage per read: {:,}'.format(n_i))\n",
    "print('The true m_i: {:.3f}'.format(m_i))\n",
    "# print(pi_i)\n",
    "# print(t_i)\n",
    "\n",
    "# Plot it\n",
    "def FOC(M_i):\n",
    "    A = ((t_i*pi_i)/(pi_i*M_i)).sum()\n",
    "    oneMinusT = np.array([1]*n_i)-np.array(t_i)\n",
    "    oneMinusTheta = np.array([1]*n_i)-pi_i*M_i\n",
    "    B = ((oneMinusT*pi_i)/(oneMinusTheta)).sum()\n",
    "    return (A-B)\n",
    "#func = lambda M_i : ((t_i*pi_i)/(pi_i*M_i)).sum()-((np.array([1]*n_i)-np.array(t_i)*pi_i)/(np.array([1]*n_i)-pi_i*M_i)).sum()\n",
    "\n",
    "MM_i = np.linspace(0.01, 1, 99)\n",
    "y = []\n",
    "for i in MM_i:\n",
    "    y.append(FOC(i))\n",
    "\n",
    "plt.plot(MM_i, y)\n",
    "plt.xlabel(\"m_i\")\n",
    "plt.ylabel(\"expression value\")\n",
    "plt.grid()\n",
    "plt.show()\n",
    "\n",
    "\n",
    "\n",
    "m_i_initial_guess = 0.1\n",
    "#m_i_solution = sp.optimize.brentq(FOC, 0.1,1)\n",
    "m_i_solution = fsolve(FOC, m_i_initial_guess)\n",
    "\n",
    "print(\"m_i is = {}\".format(m_i))\n",
    "print(\"The solution is m_i = {}\".format(m_i_solution[0]))\n",
    "print(\"at which the value of the expression is {}\".format(FOC(m_i_solution))) "
   ]
  },
  {
   "cell_type": "code",
   "execution_count": null,
   "metadata": {},
   "outputs": [],
   "source": []
  }
 ],
 "metadata": {
  "kernelspec": {
   "display_name": "Python 3",
   "language": "python",
   "name": "python3"
  },
  "language_info": {
   "codemirror_mode": {
    "name": "ipython",
    "version": 3
   },
   "file_extension": ".py",
   "mimetype": "text/x-python",
   "name": "python",
   "nbconvert_exporter": "python",
   "pygments_lexer": "ipython3",
   "version": "3.7.4"
  }
 },
 "nbformat": 4,
 "nbformat_minor": 4
}
